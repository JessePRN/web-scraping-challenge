{
 "cells": [
  {
   "cell_type": "code",
   "execution_count": 66,
   "id": "29f9a783",
   "metadata": {},
   "outputs": [
    {
     "name": "stdout",
     "output_type": "stream",
     "text": [
      "Requirement already satisfied: flask_pymongo in /Users/jesse/opt/anaconda3/envs/PythonData/lib/python3.7/site-packages (2.3.0)\n",
      "Requirement already satisfied: Flask>=0.11 in /Users/jesse/opt/anaconda3/envs/PythonData/lib/python3.7/site-packages (from flask_pymongo) (2.1.2)\n",
      "Requirement already satisfied: PyMongo>=3.3 in /Users/jesse/opt/anaconda3/envs/PythonData/lib/python3.7/site-packages (from flask_pymongo) (4.1.1)\n",
      "Requirement already satisfied: itsdangerous>=2.0 in /Users/jesse/opt/anaconda3/envs/PythonData/lib/python3.7/site-packages (from Flask>=0.11->flask_pymongo) (2.1.2)\n",
      "Requirement already satisfied: click>=8.0 in /Users/jesse/opt/anaconda3/envs/PythonData/lib/python3.7/site-packages (from Flask>=0.11->flask_pymongo) (8.1.3)\n",
      "Requirement already satisfied: Werkzeug>=2.0 in /Users/jesse/opt/anaconda3/envs/PythonData/lib/python3.7/site-packages (from Flask>=0.11->flask_pymongo) (2.1.2)\n",
      "Requirement already satisfied: Jinja2>=3.0 in /Users/jesse/opt/anaconda3/envs/PythonData/lib/python3.7/site-packages (from Flask>=0.11->flask_pymongo) (3.0.3)\n",
      "Requirement already satisfied: importlib-metadata>=3.6.0 in /Users/jesse/opt/anaconda3/envs/PythonData/lib/python3.7/site-packages (from Flask>=0.11->flask_pymongo) (4.8.2)\n",
      "Requirement already satisfied: zipp>=0.5 in /Users/jesse/opt/anaconda3/envs/PythonData/lib/python3.7/site-packages (from importlib-metadata>=3.6.0->Flask>=0.11->flask_pymongo) (3.7.0)\n",
      "Requirement already satisfied: typing-extensions>=3.6.4 in /Users/jesse/opt/anaconda3/envs/PythonData/lib/python3.7/site-packages (from importlib-metadata>=3.6.0->Flask>=0.11->flask_pymongo) (4.1.1)\n",
      "Requirement already satisfied: MarkupSafe>=2.0 in /Users/jesse/opt/anaconda3/envs/PythonData/lib/python3.7/site-packages (from Jinja2>=3.0->Flask>=0.11->flask_pymongo) (2.0.1)\n",
      "Requirement already satisfied: webdriver-manager in /Users/jesse/opt/anaconda3/envs/PythonData/lib/python3.7/site-packages (3.7.0)\n",
      "Requirement already satisfied: python-dotenv in /Users/jesse/opt/anaconda3/envs/PythonData/lib/python3.7/site-packages (from webdriver-manager) (0.20.0)\n",
      "Requirement already satisfied: requests in /Users/jesse/opt/anaconda3/envs/PythonData/lib/python3.7/site-packages (from webdriver-manager) (2.27.1)\n",
      "Requirement already satisfied: idna<4,>=2.5 in /Users/jesse/opt/anaconda3/envs/PythonData/lib/python3.7/site-packages (from requests->webdriver-manager) (3.3)\n",
      "Requirement already satisfied: urllib3<1.27,>=1.21.1 in /Users/jesse/opt/anaconda3/envs/PythonData/lib/python3.7/site-packages (from requests->webdriver-manager) (1.26.9)\n",
      "Requirement already satisfied: certifi>=2017.4.17 in /Users/jesse/opt/anaconda3/envs/PythonData/lib/python3.7/site-packages (from requests->webdriver-manager) (2021.10.8)\n",
      "Requirement already satisfied: charset-normalizer~=2.0.0 in /Users/jesse/opt/anaconda3/envs/PythonData/lib/python3.7/site-packages (from requests->webdriver-manager) (2.0.12)\n",
      "Requirement already satisfied: selenium in /Users/jesse/opt/anaconda3/envs/PythonData/lib/python3.7/site-packages (4.2.0)\n",
      "Requirement already satisfied: urllib3[secure,socks]~=1.26 in /Users/jesse/opt/anaconda3/envs/PythonData/lib/python3.7/site-packages (from selenium) (1.26.9)\n",
      "Requirement already satisfied: trio-websocket~=0.9 in /Users/jesse/opt/anaconda3/envs/PythonData/lib/python3.7/site-packages (from selenium) (0.9.2)\n",
      "Requirement already satisfied: trio~=0.17 in /Users/jesse/opt/anaconda3/envs/PythonData/lib/python3.7/site-packages (from selenium) (0.20.0)\n",
      "Requirement already satisfied: idna in /Users/jesse/opt/anaconda3/envs/PythonData/lib/python3.7/site-packages (from trio~=0.17->selenium) (3.3)\n",
      "Requirement already satisfied: outcome in /Users/jesse/opt/anaconda3/envs/PythonData/lib/python3.7/site-packages (from trio~=0.17->selenium) (1.1.0)\n",
      "Requirement already satisfied: sortedcontainers in /Users/jesse/opt/anaconda3/envs/PythonData/lib/python3.7/site-packages (from trio~=0.17->selenium) (2.4.0)\n",
      "Requirement already satisfied: attrs>=19.2.0 in /Users/jesse/opt/anaconda3/envs/PythonData/lib/python3.7/site-packages (from trio~=0.17->selenium) (21.4.0)\n",
      "Requirement already satisfied: sniffio in /Users/jesse/opt/anaconda3/envs/PythonData/lib/python3.7/site-packages (from trio~=0.17->selenium) (1.2.0)\n",
      "Requirement already satisfied: async-generator>=1.9 in /Users/jesse/opt/anaconda3/envs/PythonData/lib/python3.7/site-packages (from trio~=0.17->selenium) (1.10)\n",
      "Requirement already satisfied: wsproto>=0.14 in /Users/jesse/opt/anaconda3/envs/PythonData/lib/python3.7/site-packages (from trio-websocket~=0.9->selenium) (1.1.0)\n",
      "Requirement already satisfied: cryptography>=1.3.4 in /Users/jesse/opt/anaconda3/envs/PythonData/lib/python3.7/site-packages (from urllib3[secure,socks]~=1.26->selenium) (37.0.2)\n",
      "Requirement already satisfied: certifi in /Users/jesse/opt/anaconda3/envs/PythonData/lib/python3.7/site-packages (from urllib3[secure,socks]~=1.26->selenium) (2021.10.8)\n",
      "Requirement already satisfied: pyOpenSSL>=0.14 in /Users/jesse/opt/anaconda3/envs/PythonData/lib/python3.7/site-packages (from urllib3[secure,socks]~=1.26->selenium) (22.0.0)\n",
      "Requirement already satisfied: PySocks!=1.5.7,<2.0,>=1.5.6 in /Users/jesse/opt/anaconda3/envs/PythonData/lib/python3.7/site-packages (from urllib3[secure,socks]~=1.26->selenium) (1.7.1)\n",
      "Requirement already satisfied: cffi>=1.12 in /Users/jesse/opt/anaconda3/envs/PythonData/lib/python3.7/site-packages (from cryptography>=1.3.4->urllib3[secure,socks]~=1.26->selenium) (1.15.0)\n",
      "Requirement already satisfied: pycparser in /Users/jesse/opt/anaconda3/envs/PythonData/lib/python3.7/site-packages (from cffi>=1.12->cryptography>=1.3.4->urllib3[secure,socks]~=1.26->selenium) (2.21)\n",
      "Requirement already satisfied: h11<1,>=0.9.0 in /Users/jesse/opt/anaconda3/envs/PythonData/lib/python3.7/site-packages (from wsproto>=0.14->trio-websocket~=0.9->selenium) (0.13.0)\n",
      "Requirement already satisfied: typing-extensions in /Users/jesse/opt/anaconda3/envs/PythonData/lib/python3.7/site-packages (from h11<1,>=0.9.0->wsproto>=0.14->trio-websocket~=0.9->selenium) (4.1.1)\n"
     ]
    }
   ],
   "source": [
    "!pip install flask_pymongo\n",
    "!pip install webdriver-manager\n",
    "!pip install selenium"
   ]
  },
  {
   "cell_type": "code",
   "execution_count": 67,
   "id": "9fa9d6a4",
   "metadata": {},
   "outputs": [],
   "source": [
    "# libraries\n",
    "import os\n",
    "import requests\n",
    "from bs4 import BeautifulSoup as bs\n",
    "import pandas as pd\n",
    "from splinter import Browser\n",
    "from webdriver_manager.chrome import ChromeDriverManager"
   ]
  },
  {
   "cell_type": "code",
   "execution_count": 68,
   "id": "8bbe9b23",
   "metadata": {},
   "outputs": [
    {
     "name": "stdout",
     "output_type": "stream",
     "text": [
      "\n"
     ]
    },
    {
     "name": "stderr",
     "output_type": "stream",
     "text": [
      "[WDM] - ====== WebDriver manager ======\n",
      "[WDM] - Current google-chrome version is 102.0.5005\n",
      "[WDM] - Get LATEST chromedriver version for 102.0.5005 google-chrome\n",
      "[WDM] - Driver [/Users/jesse/.wdm/drivers/chromedriver/mac64/102.0.5005.61/chromedriver] found in cache\n"
     ]
    }
   ],
   "source": [
    "# Setup splinter\n",
    "executable_path = {'executable_path': ChromeDriverManager().install()}\n",
    "browser = Browser('chrome', **executable_path, headless=False)"
   ]
  },
  {
   "cell_type": "markdown",
   "id": "d7804e46",
   "metadata": {},
   "source": [
    "## NASA Mars News"
   ]
  },
  {
   "cell_type": "code",
   "execution_count": 24,
   "id": "85a711c0",
   "metadata": {},
   "outputs": [],
   "source": [
    "mars_url = \"https://redplanetscience.com/\"\n",
    "browser.visit(mars_url)\n",
    "html = browser.html"
   ]
  },
  {
   "cell_type": "code",
   "execution_count": 14,
   "id": "657e5680",
   "metadata": {},
   "outputs": [],
   "source": [
    "# start soup\n",
    "mars_soup = bs(html, 'html.parser')"
   ]
  },
  {
   "cell_type": "code",
   "execution_count": 57,
   "id": "1a8e029b",
   "metadata": {},
   "outputs": [
    {
     "name": "stdout",
     "output_type": "stream",
     "text": [
      "<div class=\"content_title\">Three New Views of Mars' Moon Phobos</div>\n"
     ]
    }
   ],
   "source": [
    "# get title\n",
    "news_title = mars_soup.find('div',class_='content_title')\n",
    "print(news_title)"
   ]
  },
  {
   "cell_type": "code",
   "execution_count": 23,
   "id": "07e19e8b",
   "metadata": {},
   "outputs": [
    {
     "name": "stdout",
     "output_type": "stream",
     "text": [
      "Taken with the infrared camera aboard NASA's Odyssey orbiter, they reveal temperature variations on the small moon as it drifts into and out of Mars’ shadow.\n"
     ]
    }
   ],
   "source": [
    "# get p text\n",
    "news_p = mars_soup.find('div',class_='article_teaser_body').text\n",
    "print(news_p)"
   ]
  },
  {
   "cell_type": "code",
   "execution_count": null,
   "id": "704be78c",
   "metadata": {},
   "outputs": [],
   "source": []
  },
  {
   "cell_type": "markdown",
   "id": "5df4a2a8",
   "metadata": {},
   "source": [
    "## JPL Mars Space Images—Featured Image"
   ]
  },
  {
   "cell_type": "code",
   "execution_count": 69,
   "id": "456c4ebe",
   "metadata": {},
   "outputs": [
    {
     "data": {
      "text/plain": [
       "'<html class=\"\"><head>\\n      <meta charset=\"utf-8\">\\n      <meta name=\"viewport\" content=\"width=device-width, initial-scale=1\">\\n      <link rel=\"stylesheet\" href=\"https://maxcdn.bootstrapcdn.com/bootstrap/4.0.0/css/bootstrap.min.css\">\\n      <!-- <link rel=\"stylesheet\" type=\"text/css\" href=\"css/font.css\"> -->\\n      <link rel=\"stylesheet\" type=\"text/css\" href=\"css/app.css\">\\n      <link rel=\"stylesheet\" type=\"text/css\" href=\"https://stackpath.bootstrapcdn.com/font-awesome/4.7.0/css/font-awesome.min.css\">\\n      <title>Space Image</title>\\n   <style type=\"text/css\">.fancybox-margin{margin-right:15px;}</style></head>\\n   <body>\\n      <div class=\"header\">\\n         <nav class=\"navbar navbar-expand-lg \">\\n            <a class=\"navbar-brand\" href=\"#\"><img id=\"logo\" src=\"image/nasa.png\"><span class=\"logo\">Jet Propulsion Laboratory</span>\\n            <span class=\"logo1\">California Institute of Technology</span></a>\\n            <button class=\"navbar-toggler\" type=\"button\" data-toggle=\"collapse\" data-target=\"#navbarNav\" aria-controls=\"navbarNav\" aria-expanded=\"false\" aria-label=\"Toggle navigation\">\\n            <span class=\"navbar-toggler-icon\"></span>\\n            </button>\\n            <div class=\"collapse navbar-collapse justify-content-end\" id=\"navbarNav\">\\n               <ul class=\"navbar-nav\">\\n                  <li class=\"nav-item active\">\\n                     <a class=\"nav-link\" href=\"#\"><i class=\"fa fa-bars\" aria-hidden=\"true\"></i> &nbsp;&nbsp;MENU &nbsp;&nbsp;<i class=\"fa fa-search\" aria-hidden=\"true\"></i></a>\\n                  </li>\\n               </ul>\\n            </div>\\n         </nav>\\n         <div class=\"floating_text_area\">\\n            <h2 class=\"brand_title\">FEATURED IMAGE</h2>\\n            <h1 class=\"media_feature_title\">Dusty Space Cloud</h1>\\n            <br>\\n           <a target=\"_blank\" class=\"showimg fancybox-thumbs\" href=\"image/featured/mars1.jpg\"> <button class=\"btn btn-outline-light\"> FULL IMAGE</button></a>\\n         </div>\\n      <img class=\"headerimage fade-in\" src=\"image/featured/mars1.jpg\"></div>\\n      <div class=\"search sticky\">\\n         <div class=\"col-md-12\">\\n            <div class=\"row\">\\n               <div class=\"col-md-6\">\\n                  <input type=\"text\" name=\"Search\" placeholder=\"Search\">\\n               </div>\\n               <div class=\"col-md-6\">\\n                  <select class=\"form-select\" id=\"options\" aria-label=\"Default select example\">\\n                     <option selected=\"\" onchange=\"0\">Mars</option>\\n                     <!-- <option data-filter=\"sun\" class=\"button\">Mars</option> -->\\n                     <option data-filter=\"Sun\" class=\"button\">Sun</option>\\n                     <option data-filter=\"earth\" class=\"button\">Earth</option>\\n                     <option data-filter=\"ida\" class=\"button\">Ida</option>\\n                     <option data-filter=\"jupiter\" class=\"button\">Jupiter</option>\\n                     <option data-filter=\"venus\" class=\"button\">Venus</option>\\n                  </select>\\n               </div>\\n            </div>\\n         </div>\\n      </div>\\n      <div class=\"container mt-5\">\\n         <div class=\"col-md-12\">\\n            <div class=\"row\">\\n               <div class=\"col-md-6\">\\n                  <h1>Images</h1>\\n               </div>\\n               <div class=\"col-md-6\" id=\"icon\">\\n                  <div class=\"icon2\"></div>\\n                  <div class=\"icon1\"></div>\\n               </div>\\n            </div>\\n         </div>\\n         <!-- first div -->\\n         <div id=\"filter\" class=\"div1\">\\n            <div class=\"thmbgroup\"><a class=\"fancybox-thumbs\" data-fancybox-group=\"thumb\" href=\"image/mars/Icaria Fossae7.jpg\"><div class=\"thmb\"><img class=\"thumbimg\" src=\"image/mars/Icaria Fossae7.jpg\" alt=\"\"><p class=\"thumbcontent\">January 1, 2020<br>Icaria Fossae7</p></div></a><a class=\"fancybox-thumbs\" data-fancybox-group=\"thumb\" href=\"image/mars/Proctor Crater Dunes 7.jpg\"><div class=\"thmb\"><img class=\"thumbimg\" src=\"image/mars/Proctor Crater Dunes 7.jpg\" alt=\"\"><p class=\"thumbcontent\">December 31, 2020<br>Proctor Crater Dunes</p></div></a><a class=\"fancybox-thumbs\" data-fancybox-group=\"thumb\" href=\"image/mars/Icaria Fossae7.jpg\"><div class=\"thmb\"><img class=\"thumbimg\" src=\"image/mars/Icaria Fossae7.jpg\" alt=\"\"><p class=\"thumbcontent\">December 31, 2020<br>Icaria Fossae</p></div></a><a class=\"fancybox-thumbs\" data-fancybox-group=\"thumb\" href=\"image/mars/Proctor Crater Dunes 7.jpg\"><div class=\"thmb\"><img class=\"thumbimg\" src=\"image/mars/Proctor Crater Dunes 7.jpg\" alt=\"\"><p class=\"thumbcontent\">December 29, 2020<br>Proctor Crater Dunes</p></div></a><a class=\"fancybox-thumbs\" data-fancybox-group=\"thumb\" href=\"image/mars/Proctor Crater Dunes 7.jpg\"><div class=\"thmb\"><img class=\"thumbimg\" src=\"image/mars/Proctor Crater Dunes 7.jpg\" alt=\"\"><p class=\"thumbcontent\">December 28, 2020<br>roctor Crater Dunes</p></div></a><a class=\"fancybox-thumbs\" data-fancybox-group=\"thumb\" href=\"image/mars/Icaria Fossae7.jpg\"><div class=\"thmb\"><img class=\"thumbimg\" src=\"image/mars/Icaria Fossae7.jpg\" alt=\"\"><p class=\"thumbcontent\">December 22, 2020<br>Icaria Fossae</p></div></a><a class=\"fancybox-thumbs\" data-fancybox-group=\"thumb\" href=\"image/mars/Icaria Fossae.jpg\"><div class=\"thmb\"><img class=\"thumbimg\" src=\"image/mars/Icaria Fossae.jpg\" alt=\"\"><p class=\"thumbcontent\">December 21, 2020<br>Icaria Fossae</p></div></a><a class=\"fancybox-thumbs\" data-fancybox-group=\"thumb\" href=\"image/mars/Ariadnes Colles4.jpg\"><div class=\"thmb\"><img class=\"thumbimg\" src=\"image/mars/Ariadnes Colles4.jpg\" alt=\"\"><p class=\"thumbcontent\">December 18, 2020<br>Ariadnes Colles</p></div></a><a class=\"fancybox-thumbs\" data-fancybox-group=\"thumb\" href=\"image/mars/Niger Vallis.jpg\"><div class=\"thmb\"><img class=\"thumbimg\" src=\"image/mars/Niger Vallis.jpg\" alt=\"\"><p class=\"thumbcontent\">December 17, 2020<br>Niger Vallis</p></div></a><a class=\"fancybox-thumbs\" data-fancybox-group=\"thumb\" href=\"image/mars/Proctor Crater Dunes.jpg\"><div class=\"thmb\"><img class=\"thumbimg\" src=\"image/mars/Proctor Crater Dunes.jpg\" alt=\"\"><p class=\"thumbcontent\">December 16, 2020<br>Proctor Crater Dunes</p></div></a><a class=\"fancybox-thumbs\" data-fancybox-group=\"thumb\" href=\"image/mars/Niger Vallis.jpg\"><div class=\"thmb\"><img class=\"thumbimg\" src=\"image/mars/Niger Vallis.jpg\" alt=\"\"><p class=\"thumbcontent\">December 15, 2020<br>Niger Vallis</p></div></a><a class=\"fancybox-thumbs\" data-fancybox-group=\"thumb\" href=\"image/mars/Daedalia Planum.jpg\"><div class=\"thmb\"><img class=\"thumbimg\" src=\"image/mars/Daedalia Planum.jpg\" alt=\"\"><p class=\"thumbcontent\">December 11, 2020<br>Daedalia Planum</p></div></a><a class=\"fancybox-thumbs\" data-fancybox-group=\"thumb\" href=\"image/mars/Sirenum Fossae.jpg\"><div class=\"thmb\"><img class=\"thumbimg\" src=\"image/mars/Sirenum Fossae.jpg\" alt=\"\"><p class=\"thumbcontent\">November,11, 2020<br>Sirenum Fossae</p></div></a><a class=\"fancybox-thumbs\" data-fancybox-group=\"thumb\" href=\"image/mars/Ariadnes Colles4.jpg\"><div class=\"thmb\"><img class=\"thumbimg\" src=\"image/mars/Ariadnes Colles4.jpg\" alt=\"\"><p class=\"thumbcontent\">November,13, 2020<br>Ariadnes Colles</p></div></a><a class=\"fancybox-thumbs\" data-fancybox-group=\"thumb\" href=\"image/mars/South Polar Cap.jpg\"><div class=\"thmb\"><img class=\"thumbimg\" src=\"image/mars/South Polar Cap.jpg\" alt=\"\"><p class=\"thumbcontent\">November,14, 2020<br>South Polar Cap</p></div></a><a class=\"fancybox-thumbs\" data-fancybox-group=\"thumb\" href=\"image/mars/Daedalia Planum.jpg\"><div class=\"thmb\"><img class=\"thumbimg\" src=\"image/mars/Daedalia Planum.jpg\" alt=\"\"><p class=\"thumbcontent\">November,17, 2020<br>Daedalia Planum</p></div></a><a class=\"fancybox-thumbs\" data-fancybox-group=\"thumb\" href=\"image/mars/Ariadnes Colles3.jpg\"><div class=\"thmb\"><img class=\"thumbimg\" src=\"image/mars/Ariadnes Colles3.jpg\" alt=\"\"><p class=\"thumbcontent\">November,11, 2020<br>Ariadnes Colles</p></div></a><a class=\"fancybox-thumbs\" data-fancybox-group=\"thumb\" href=\"image/mars/Atlantis Chaos.jpg\"><div class=\"thmb\"><img class=\"thumbimg\" src=\"image/mars/Atlantis Chaos.jpg\" alt=\"\"><p class=\"thumbcontent\">November,09, 2020<br>Atlantis Chaos</p></div></a><a class=\"fancybox-thumbs\" data-fancybox-group=\"thumb\" href=\"image/mars/Daedalia Planum.jpg\"><div class=\"thmb\"><img class=\"thumbimg\" src=\"image/mars/Daedalia Planum.jpg\" alt=\"\"><p class=\"thumbcontent\">January 1, 2020<br>Daedalia Planum</p></div></a><a class=\"fancybox-thumbs\" data-fancybox-group=\"thumb\" href=\"image/mars/Icaria Fossae.jpg\"><div class=\"thmb\"><img class=\"thumbimg\" src=\"image/mars/Icaria Fossae.jpg\" alt=\"\"><p class=\"thumbcontent\">January 1, 2020<br>Icaria Fossae</p></div></a><a class=\"fancybox-thumbs\" data-fancybox-group=\"thumb\" href=\"image/mars/Niger Vallis.jpg\"><div class=\"thmb\"><img class=\"thumbimg\" src=\"image/mars/Niger Vallis.jpg\" alt=\"\"><p class=\"thumbcontent\">January 1, 2020<br>Niger Vallis</p></div></a><a class=\"fancybox-thumbs\" data-fancybox-group=\"thumb\" href=\"image/mars/Proctor Crater Dunes.jpg\"><div class=\"thmb\"><img class=\"thumbimg\" src=\"image/mars/Proctor Crater Dunes.jpg\" alt=\"\"><p class=\"thumbcontent\">January 1, 2020<br>Proctor Crater Dunes</p></div></a><a class=\"fancybox-thumbs\" data-fancybox-group=\"thumb\" href=\"image/mars/Reull Vallis.jpg\"><div class=\"thmb\"><img class=\"thumbimg\" src=\"image/mars/Reull Vallis.jpg\" alt=\"\"><p class=\"thumbcontent\">January 1, 2020<br>Reull Vallis</p></div></a><a class=\"fancybox-thumbs\" data-fancybox-group=\"thumb\" href=\"image/mars/Ariadnes Colles3.jpg\"><div class=\"thmb\"><img class=\"thumbimg\" src=\"image/mars/Ariadnes Colles3.jpg\" alt=\"\"><p class=\"thumbcontent\">January 1, 2020<br>Ariadnes Colles</p></div></a><a class=\"fancybox-thumbs\" data-fancybox-group=\"thumb\" href=\"image/mars/Sirenum Fossae.jpg\"><div class=\"thmb\"><img class=\"thumbimg\" src=\"image/mars/Sirenum Fossae.jpg\" alt=\"\"><p class=\"thumbcontent\">January 1, 2020<br>Sirenum Fossae</p></div></a><a class=\"fancybox-thumbs\" data-fancybox-group=\"thumb\" href=\"image/mars/South Polar Cap.jpg\"><div class=\"thmb\"><img class=\"thumbimg\" src=\"image/mars/South Polar Cap.jpg\" alt=\"\"><p class=\"thumbcontent\">January 1, 2020<br>South Polar Cap</p></div></a><a class=\"fancybox-thumbs\" data-fancybox-group=\"thumb\" href=\"image/mars/Niger Vallis.jpg\"><div class=\"thmb\"><img class=\"thumbimg\" src=\"image/mars/Niger Vallis.jpg\" alt=\"\"><p class=\"thumbcontent\">January 1, 2020<br>Niger Vallis</p></div></a><a class=\"fancybox-thumbs\" data-fancybox-group=\"thumb\" href=\"image/mars/Daedalia Planum.jpg\"><div class=\"thmb\"><img class=\"thumbimg\" src=\"image/mars/Daedalia Planum.jpg\" alt=\"\"><p class=\"thumbcontent\">January 1, 2020<br>Daedalia Planum</p></div></a><a class=\"fancybox-thumbs\" data-fancybox-group=\"thumb\" href=\"image/mars/Icaria Fossae.jpg\"><div class=\"thmb\"><img class=\"thumbimg\" src=\"image/mars/Icaria Fossae.jpg\" alt=\"\"><p class=\"thumbcontent\">January 1, 2020<br>Icaria Fossae</p></div></a><a class=\"fancybox-thumbs\" data-fancybox-group=\"thumb\" href=\"image/mars/Ariadnes Colles4.jpg\"><div class=\"thmb\"><img class=\"thumbimg\" src=\"image/mars/Ariadnes Colles4.jpg\" alt=\"\"><p class=\"thumbcontent\">January 1, 2020<br>Ariadnes Colles</p></div></a><a class=\"fancybox-thumbs\" data-fancybox-group=\"thumb\" href=\"image/mars/South Polar Cap.jpg\"><div class=\"thmb\"><img class=\"thumbimg\" src=\"image/mars/South Polar Cap.jpg\" alt=\"\"><p class=\"thumbcontent\">January 1, 2020<br>South Polar Cap</p></div></a><a class=\"fancybox-thumbs\" data-fancybox-group=\"thumb\" href=\"image/mars/Daedalia Planum.jpg\"><div class=\"thmb\"><img class=\"thumbimg\" src=\"image/mars/Daedalia Planum.jpg\" alt=\"\"><p class=\"thumbcontent\">January 1, 2020<br>Daedalia Planum</p></div></a></div>\\n         </div>\\n         <!-- first div ends -->\\n         <!-- second div starts -->\\n         <div id=\"column\" class=\"col-md-12  grid-margin\">\\n            <ul class=\"post-list\">\\n               <li class=\"post-heading\"></li>\\n            </ul>\\n         </div>\\n         <!-- second div starts -->\\n      </div>\\n      <div class=\"first imgcontainer mt-3\">\\n         <div class=\"col-md-12\">\\n            <div class=\"row\">\\n               <div class=\"col-md-3\">\\n                  <img id=\"pic\" src=\"\">\\n               </div>\\n            </div>\\n         </div>\\n      </div>\\n      <!-- end -->\\n      <div class=\"module_gallery container\">\\n         <div class=\"col-md-12\">\\n            <div class=\"row\">\\n               <div class=\"col-md-6\">\\n                  <div class=\"card\">\\n                     <img class=\"card-img-top\" src=\"https://www.jpl.nasa.gov/assets/images/content/tmp/images/jpl_photojournal(3x1).jpg\" alt=\"Card image cap\">\\n                     <div class=\"card-body\">\\n                        <h5 class=\"card-title\">JPL Photojournal</h5>\\n                        <p class=\"card-text\">Access to the full library of publicly released images from various Solar System exploration programs</p>\\n                     </div>\\n                  </div>\\n               </div>\\n               <div class=\"col-md-6\">\\n                  <div class=\"card\">\\n                     <img class=\"card-img-top\" src=\"https://www.jpl.nasa.gov/assets/images/content/tmp/images/nasa_images(3x1).jpg\" alt=\"Card image cap\">\\n                     <div class=\"card-body\">\\n                        <h5 class=\"card-title\">Great images in NASA</h5>\\n                        <p class=\"card-text\">A selection of the best-known images from a half-century of exploration and discovery</p>\\n                     </div>\\n                  </div>\\n               </div>\\n            </div>\\n         </div>\\n      </div>\\n      <div class=\"multi_teaser\">\\n         <div class=\"container\">\\n            <h1>You Might Also Like</h1>\\n            <div class=\"col-md-12 mt-5\">\\n               <div class=\"row\">\\n                  <div class=\"col-md-4\">\\n                     <div class=\"card\">\\n                        <img class=\"card-img-top\" src=\"https://imagecache.jpl.nasa.gov/images/640x350/C1-PIA24304---CatScanMars-16-640x350.gif\" alt=\"Card image cap\">\\n                        <div class=\"card-body\">\\n                           <p class=\"card-text\">Access to the full library of publicly released images from various Solar System exploration programs</p>\\n                        </div>\\n                     </div>\\n                  </div>\\n                  <div class=\"col-md-4\">\\n                     <div class=\"card\">\\n                        <img class=\"card-img-top\" src=\"https://imagecache.jpl.nasa.gov/images/640x350/PIA23491-16-640x350.jpg\" alt=\"Card image cap\">\\n                        <div class=\"card-body\">\\n                           <p class=\"card-text\">Access to the full library of publicly released images from various Solar System exploration programs</p>\\n                        </div>\\n                     </div>\\n                  </div>\\n                  <div class=\"col-md-4\">\\n                     <div class=\"card\">\\n                        <img class=\"card-img-top\" src=\"https://imagecache.jpl.nasa.gov/images/640x350/C1-PIA23180-16-640x350.gif\" alt=\"Card image cap\">\\n                        <div class=\"card-body\">\\n                           <p class=\"card-text\">Access to the full library of publicly released images from various Solar System exploration programs</p>\\n                        </div>\\n                     </div>\\n                  </div>\\n               </div>\\n            </div>\\n         </div>\\n      </div>\\n      <div class=\"footer \">\\n         <div class=\"container\">\\n            <div class=\"col-md-12\">\\n               <div class=\"row\">\\n                  <div class=\"col-md-3\">\\n                     <h4>About JPL</h4>\\n                     <ul>\\n                        <li>About JPL</li>\\n                        <li>JPL Vision</li>\\n                        <li>Executive Council</li>\\n                        <li>History</li>\\n                     </ul>\\n                  </div>\\n                  <div class=\"col-md-3\">\\n                     <h4>Education</h4>\\n                     <ul>\\n                        <li>Intern</li>\\n                        <li>Learn</li>\\n                        <li>Teach</li>\\n                        <li>News</li>\\n                     </ul>\\n                  </div>\\n                  <div class=\"col-md-3\">\\n                     <h4>Our Sites</h4>\\n                     <ul>\\n                        <li>Asteroid Watch</li>\\n                        <li>Basics of Spaceflight</li>\\n                        <li>Cassini - Mission to Saturn</li>\\n                        <li>Climate Kids</li>\\n                     </ul>\\n                  </div>\\n                  <div class=\"col-md-3\">\\n                     <h4>Galleries</h4>\\n                     <ul>\\n                        <li>JPL Space Images</li>\\n                        <li>Videos</li>\\n                        <li>Infographics</li>\\n                        <li>Photojournal</li>\\n                     </ul>\\n                  </div>\\n               </div>\\n            </div>\\n         </div>\\n      </div>\\n<!--<div class=\"showFullimage\">\\n\\t<button class=\"btn btn-outline-light hideimage\" onclick=hideimage()> Close</button>\\n\\t<img class=\"fullimage fade-in\" src=\"\">\\n</div>-->\\n      <!-- <script src=\"js/jquery.easeScroll.js\"></script>  -->\\n      <script src=\"js/jquery-3.5.1.min.js\"></script>\\n      <!-- <script src=\"js/jquery-3.2.1.slim.min.js\"></script> -->\\n      <script src=\"js/demo.js\"></script>\\n      <!-- <script src=\"js/app.js\"></script> -->\\n      <script src=\"https://cdnjs.cloudflare.com/ajax/libs/popper.js/1.12.9/umd/popper.min.js\"></script>\\n      <script src=\"https://maxcdn.bootstrapcdn.com/bootstrap/4.0.0/js/bootstrap.min.js\"></script>\\n      <script type=\"text/javascript\" src=\"js/fancyBox/jquery.fancybox.pack.js?v=2.1.5\"></script>\\n      <link rel=\"stylesheet\" type=\"text/css\" href=\"js/fancyBox/jquery.fancybox.css?v=2.1.5\" media=\"screen\">\\n      <link rel=\"stylesheet\" type=\"text/css\" href=\"js/fancyBox/helpers/jquery.fancybox-thumbs.css?v=1.0.7\">\\n      <script type=\"text/javascript\" src=\"js/fancyBox/helpers/jquery.fancybox-thumbs.js?v=1.0.7\"></script>\\n   \\n</body></html>'"
      ]
     },
     "execution_count": 69,
     "metadata": {},
     "output_type": "execute_result"
    }
   ],
   "source": [
    "jpl_url = \"https://spaceimages-mars.com/\"\n",
    "browser.visit(jpl_url)\n",
    "html = browser.html\n",
    "html"
   ]
  },
  {
   "cell_type": "code",
   "execution_count": 70,
   "id": "509a6fa0",
   "metadata": {},
   "outputs": [],
   "source": [
    "# start soup\n",
    "jpl_soup = bs(html, 'html.parser')"
   ]
  },
  {
   "cell_type": "code",
   "execution_count": 71,
   "id": "ed09b849",
   "metadata": {},
   "outputs": [
    {
     "data": {
      "text/plain": [
       "'https://spaceimages-mars.com/image/featured/mars1.jpg'"
      ]
     },
     "execution_count": 71,
     "metadata": {},
     "output_type": "execute_result"
    }
   ],
   "source": [
    "# Example:\n",
    "jpl_content = jpl_soup.find('img',class_='headerimage')['src']\n",
    "# url_prefix = \"https://spaceimages-mars.com/\"\n",
    "featured_image_url = jpl_url + jpl_content\n",
    "featured_image_url"
   ]
  },
  {
   "cell_type": "code",
   "execution_count": null,
   "id": "905dca52",
   "metadata": {},
   "outputs": [],
   "source": []
  },
  {
   "cell_type": "markdown",
   "id": "a244e463",
   "metadata": {},
   "source": [
    "## Mars Facts"
   ]
  },
  {
   "cell_type": "code",
   "execution_count": 36,
   "id": "f6337f59",
   "metadata": {},
   "outputs": [],
   "source": [
    "fact_url = \"https://galaxyfacts-mars.com/\""
   ]
  },
  {
   "cell_type": "code",
   "execution_count": 37,
   "id": "664ff348",
   "metadata": {},
   "outputs": [
    {
     "data": {
      "text/plain": [
       "[                         0                1                2\n",
       " 0  Mars - Earth Comparison             Mars            Earth\n",
       " 1                Diameter:         6,779 km        12,742 km\n",
       " 2                    Mass:  6.39 × 10^23 kg  5.97 × 10^24 kg\n",
       " 3                   Moons:                2                1\n",
       " 4       Distance from Sun:   227,943,824 km   149,598,262 km\n",
       " 5          Length of Year:   687 Earth days      365.24 days\n",
       " 6             Temperature:     -87 to -5 °C      -88 to 58°C,\n",
       "                       0                              1\n",
       " 0  Equatorial Diameter:                       6,792 km\n",
       " 1       Polar Diameter:                       6,752 km\n",
       " 2                 Mass:  6.39 × 10^23 kg (0.11 Earths)\n",
       " 3                Moons:          2 ( Phobos & Deimos )\n",
       " 4       Orbit Distance:       227,943,824 km (1.38 AU)\n",
       " 5         Orbit Period:           687 days (1.9 years)\n",
       " 6  Surface Temperature:                   -87 to -5 °C\n",
       " 7         First Record:              2nd millennium BC\n",
       " 8          Recorded By:           Egyptian astronomers]"
      ]
     },
     "execution_count": 37,
     "metadata": {},
     "output_type": "execute_result"
    }
   ],
   "source": [
    "fact_scrape = pd.read_html(fact_url)\n",
    "fact_scrape"
   ]
  },
  {
   "cell_type": "code",
   "execution_count": 39,
   "id": "ec8c58db",
   "metadata": {},
   "outputs": [],
   "source": [
    "fact_df = fact_scrape[0]"
   ]
  },
  {
   "cell_type": "code",
   "execution_count": 40,
   "id": "19f42728",
   "metadata": {},
   "outputs": [
    {
     "data": {
      "text/plain": [
       "'<table border=\"1\" class=\"dataframe\">\\n  <thead>\\n    <tr style=\"text-align: right;\">\\n      <th></th>\\n      <th>Mars-Earth Comparison</th>\\n      <th>Mars</th>\\n      <th>Earth</th>\\n    </tr>\\n  </thead>\\n  <tbody>\\n    <tr>\\n      <th>0</th>\\n      <td>Mars - Earth Comparison</td>\\n      <td>Mars</td>\\n      <td>Earth</td>\\n    </tr>\\n    <tr>\\n      <th>1</th>\\n      <td>Diameter:</td>\\n      <td>6,779 km</td>\\n      <td>12,742 km</td>\\n    </tr>\\n    <tr>\\n      <th>2</th>\\n      <td>Mass:</td>\\n      <td>6.39 × 10^23 kg</td>\\n      <td>5.97 × 10^24 kg</td>\\n    </tr>\\n    <tr>\\n      <th>3</th>\\n      <td>Moons:</td>\\n      <td>2</td>\\n      <td>1</td>\\n    </tr>\\n    <tr>\\n      <th>4</th>\\n      <td>Distance from Sun:</td>\\n      <td>227,943,824 km</td>\\n      <td>149,598,262 km</td>\\n    </tr>\\n    <tr>\\n      <th>5</th>\\n      <td>Length of Year:</td>\\n      <td>687 Earth days</td>\\n      <td>365.24 days</td>\\n    </tr>\\n    <tr>\\n      <th>6</th>\\n      <td>Temperature:</td>\\n      <td>-87 to -5 °C</td>\\n      <td>-88 to 58°C</td>\\n    </tr>\\n  </tbody>\\n</table>'"
      ]
     },
     "execution_count": 40,
     "metadata": {},
     "output_type": "execute_result"
    }
   ],
   "source": [
    "# clean up and convert to html table\n",
    "fact_df.columns = ['Mars-Earth Comparison', 'Mars', 'Earth']\n",
    "html_table = fact_df.to_html()\n",
    "html_table"
   ]
  },
  {
   "cell_type": "code",
   "execution_count": null,
   "id": "f88f4efe",
   "metadata": {},
   "outputs": [],
   "source": []
  },
  {
   "cell_type": "markdown",
   "id": "fdb668c0",
   "metadata": {},
   "source": [
    "## Mars Hemispheres"
   ]
  },
  {
   "cell_type": "code",
   "execution_count": 72,
   "id": "072b2fa1",
   "metadata": {},
   "outputs": [],
   "source": [
    "hemi_url = \"https://marshemispheres.com/\""
   ]
  },
  {
   "cell_type": "code",
   "execution_count": 73,
   "id": "79dd1c55",
   "metadata": {},
   "outputs": [
    {
     "data": {
      "text/plain": [
       "<html lang=\"en\"><head>\n",
       "<meta content=\"text/html; charset=utf-8\" http-equiv=\"Content-Type\"/>\n",
       "<link href=\"css/jquery-ui.css\" rel=\"stylesheet\" type=\"text/css\"/>\n",
       "<title>Astropedia Search Results | GUSS Astrogeology Science Center</title>\n",
       "<meta content=\"GUSS Astrogeology Science Center Astropedia search results.\" name=\"description\"/>\n",
       "<meta content=\"GUSS,Astrogeology Science Center,Cartography,Geology,Space,Geological Survey,Mapping\" name=\"keywords\"/>\n",
       "<meta content=\"IE=edge\" http-equiv=\"X-UA-Compatible\"/>\n",
       "<meta content=\"width=device-width, initial-scale=1, maximum-scale=1\" name=\"viewport\"/>\n",
       "<link href=\"css/main.css\" media=\"screen\" rel=\"stylesheet\"/>\n",
       "<link href=\"css/print.css\" media=\"print\" rel=\"stylesheet\"/>\n",
       "<link href=\"#\" rel=\"icon\" type=\"image/x-ico\"/>\n",
       "</head>\n",
       "<body id=\"results\">\n",
       "<header>\n",
       "<a href=\"#\" style=\"float:right;margin-top:10px;\" target=\"_blank\">\n",
       "<img alt=\"USGS: Science for a Changing World\" class=\"logo\" height=\"60\" src=\"images/usgs_logo_main_2x.png\"/>\n",
       "</a>\n",
       "<a href=\"#\" style=\"float:right;margin-top:5px;margin-right:20px;\" target=\"_blank\">\n",
       "<img alt=\"NASA\" class=\"logo\" height=\"65\" src=\"images/nasa-logo-web-med.png\"/>\n",
       "</a>\n",
       "</header>\n",
       "<div class=\"wrapper\">\n",
       "<div class=\"container\">\n",
       "<div class=\"widget block bar\">\n",
       "<a href=\"https://astrogeology.usgs.gov/search\" style=\"float:right;text-decoration:none;\">\n",
       "<img alt=\"Astropedia\" src=\"images/astropedia-logo-main.png\" style=\"width:200px;border:none;float:right;\"/>\n",
       "<div style=\"clear:both;font-size:.8em;float:right;color:#888;\">Lunar and Planetary Cartographic Catalog</div>\n",
       "</a>\n",
       "<div style=\"float:left;height:60px;\">\n",
       "</div>\n",
       "</div>\n",
       "<div class=\"full-content\">\n",
       "<section class=\"block\" id=\"results-accordian\">\n",
       "<div class=\"result-list\" data-section=\"product\" id=\"product-section\">\n",
       "<div class=\"accordian\">\n",
       "<h2>Products</h2>\n",
       "<span class=\"count\">4 Results</span>\n",
       "<span class=\"collapse\">Collapse</span>\n",
       "</div>\n",
       "<div class=\"collapsible results\">\n",
       "<div class=\"item\">\n",
       "<a class=\"itemLink product-item\" href=\"cerberus.html\"><img alt=\"Cerberus Hemisphere Enhanced thumbnail\" class=\"thumb\" src=\"images/39d3266553462198bd2fbc4d18fbed17_cerberus_enhanced.tif_thumb.png\"/></a>\n",
       "<div class=\"description\">\n",
       "<a class=\"itemLink product-item\" href=\"cerberus.html\">\n",
       "<h3>Cerberus Hemisphere Enhanced</h3>\n",
       "</a>\n",
       "<span class=\"subtitle\" style=\"float:left\">image/tiff 21 MB</span><span class=\"pubDate\" style=\"float:right\"></span><br/>\n",
       "<p>Mosaic of the Cerberus hemisphere of Mars projected into point perspective, a view similar to that which one would see from a spacecraft. This mosaic is composed of 104 Viking Orbiter images acquired…</p>\n",
       "</div>\n",
       "<!-- end description -->\n",
       "</div>\n",
       "<div class=\"item\">\n",
       "<a class=\"itemLink product-item\" href=\"schiaparelli.html\"><img alt=\"Schiaparelli Hemisphere Enhanced thumbnail\" class=\"thumb\" src=\"images/08eac6e22c07fb1fe72223a79252de20_schiaparelli_enhanced.tif_thumb.png\"/></a>\n",
       "<div class=\"description\">\n",
       "<a class=\"itemLink product-item\" href=\"schiaparelli.html\">\n",
       "<h3>Schiaparelli Hemisphere Enhanced</h3>\n",
       "</a>\n",
       "<span class=\"subtitle\" style=\"float:left\">image/tiff 35 MB</span><span class=\"pubDate\" style=\"float:right\"></span><br/>\n",
       "<p>Mosaic of the Schiaparelli hemisphere of Mars projected into point perspective, a view similar to that which one would see from a spacecraft. The images were acquired in 1980 during early northern…</p>\n",
       "</div>\n",
       "<!-- end description -->\n",
       "</div>\n",
       "<div class=\"item\">\n",
       "<a class=\"itemLink product-item\" href=\"syrtis.html\"><img alt=\"Syrtis Major Hemisphere Enhanced thumbnail\" class=\"thumb\" src=\"images/55a0a1e2796313fdeafb17c35925e8ac_syrtis_major_enhanced.tif_thumb.png\"/></a>\n",
       "<div class=\"description\">\n",
       "<a class=\"itemLink product-item\" href=\"syrtis.html\">\n",
       "<h3>Syrtis Major Hemisphere Enhanced</h3>\n",
       "</a>\n",
       "<span class=\"subtitle\" style=\"float:left\">image/tiff 25 MB</span><span class=\"pubDate\" style=\"float:right\"></span><br/>\n",
       "<p>Mosaic of the Syrtis Major hemisphere of Mars projected into point perspective, a view similar to that which one would see from a spacecraft. This mosaic is composed of about 100 red and violet…</p>\n",
       "</div>\n",
       "<!-- end description -->\n",
       "</div>\n",
       "<div class=\"item\">\n",
       "<a class=\"itemLink product-item\" href=\"valles.html\"><img alt=\"Valles Marineris Hemisphere Enhanced thumbnail\" class=\"thumb\" src=\"images/4e59980c1c57f89c680c0e1ccabbeff1_valles_marineris_enhanced.tif_thumb.png\"/></a>\n",
       "<div class=\"description\">\n",
       "<a class=\"itemLink product-item\" href=\"valles.html\">\n",
       "<h3>Valles Marineris Hemisphere Enhanced</h3>\n",
       "</a>\n",
       "<span class=\"subtitle\" style=\"float:left\">image/tiff 27 MB</span><span class=\"pubDate\" style=\"float:right\"></span><br/>\n",
       "<p>Mosaic of the Valles Marineris hemisphere of Mars projected into point perspective, a view similar to that which one would see from a spacecraft. The distance is 2500 kilometers from the surface of…</p>\n",
       "</div>\n",
       "<!-- end description -->\n",
       "</div>\n",
       "</div>\n",
       "<!-- end this-section -->\n",
       "</div>\n",
       "</section>\n",
       "</div>\n",
       "<div class=\"navigation clear\" style=\"display: none;\">\n",
       "<a class=\"itemLink product-item\" href=\"#\" onclick=\"showMain()\">\n",
       "<h3>Back</h3>\n",
       "</a>\n",
       "</div>\n",
       "</div>\n",
       "<footer>\n",
       "<div class=\"left\">\n",
       "<a href=\"#\">Search</a> |\n",
       "               <a href=\"#\">About</a> |\n",
       "               <a href=\"#\">Contact</a>\n",
       "</div>\n",
       "<div class=\"right\">\n",
       "<a href=\"#\">GUSS Science Center</a>\n",
       "</div>\n",
       "</footer>\n",
       "</div>\n",
       "<div class=\"page-background\" style=\"\n",
       "         background:url('./images/mars.jpg');\n",
       "         filter:progid:DXImageTransform.Microsoft.AlphaImageLoader(\n",
       "         src='./images/mars.jpg', sizingMethod='scale');\n",
       "         \"></div>\n",
       "<script type=\"text/javascript\">\n",
       "         var baseUrl = \"\";\n",
       "\n",
       "\n",
       "\n",
       "      </script>\n",
       "<script src=\"js/jquery.min.js\" type=\"text/javascript\"></script>\n",
       "<script src=\"js/jquery-ui.min.js\" type=\"text/javascript\"></script>\n",
       "<script src=\"js/general.js\" type=\"text/javascript\"></script>\n",
       "</body></html>"
      ]
     },
     "execution_count": 73,
     "metadata": {},
     "output_type": "execute_result"
    }
   ],
   "source": [
    "browser.visit(hemi_url)\n",
    "html = browser.html\n",
    "hemi_soup = bs(html, 'html.parser')\n",
    "hemi_soup"
   ]
  },
  {
   "cell_type": "code",
   "execution_count": 77,
   "id": "31909a52",
   "metadata": {},
   "outputs": [
    {
     "data": {
      "text/plain": [
       "[<div class=\"description\">\n",
       " <a class=\"itemLink product-item\" href=\"cerberus.html\">\n",
       " <h3>Cerberus Hemisphere Enhanced</h3>\n",
       " </a>\n",
       " <span class=\"subtitle\" style=\"float:left\">image/tiff 21 MB</span><span class=\"pubDate\" style=\"float:right\"></span><br/>\n",
       " <p>Mosaic of the Cerberus hemisphere of Mars projected into point perspective, a view similar to that which one would see from a spacecraft. This mosaic is composed of 104 Viking Orbiter images acquired…</p>\n",
       " </div>,\n",
       " <div class=\"description\">\n",
       " <a class=\"itemLink product-item\" href=\"schiaparelli.html\">\n",
       " <h3>Schiaparelli Hemisphere Enhanced</h3>\n",
       " </a>\n",
       " <span class=\"subtitle\" style=\"float:left\">image/tiff 35 MB</span><span class=\"pubDate\" style=\"float:right\"></span><br/>\n",
       " <p>Mosaic of the Schiaparelli hemisphere of Mars projected into point perspective, a view similar to that which one would see from a spacecraft. The images were acquired in 1980 during early northern…</p>\n",
       " </div>,\n",
       " <div class=\"description\">\n",
       " <a class=\"itemLink product-item\" href=\"syrtis.html\">\n",
       " <h3>Syrtis Major Hemisphere Enhanced</h3>\n",
       " </a>\n",
       " <span class=\"subtitle\" style=\"float:left\">image/tiff 25 MB</span><span class=\"pubDate\" style=\"float:right\"></span><br/>\n",
       " <p>Mosaic of the Syrtis Major hemisphere of Mars projected into point perspective, a view similar to that which one would see from a spacecraft. This mosaic is composed of about 100 red and violet…</p>\n",
       " </div>,\n",
       " <div class=\"description\">\n",
       " <a class=\"itemLink product-item\" href=\"valles.html\">\n",
       " <h3>Valles Marineris Hemisphere Enhanced</h3>\n",
       " </a>\n",
       " <span class=\"subtitle\" style=\"float:left\">image/tiff 27 MB</span><span class=\"pubDate\" style=\"float:right\"></span><br/>\n",
       " <p>Mosaic of the Valles Marineris hemisphere of Mars projected into point perspective, a view similar to that which one would see from a spacecraft. The distance is 2500 kilometers from the surface of…</p>\n",
       " </div>]"
      ]
     },
     "execution_count": 77,
     "metadata": {},
     "output_type": "execute_result"
    }
   ],
   "source": [
    "hemi_desc = hemi_soup.find_all('div', class_='description')\n",
    "\n",
    "hemi_desc"
   ]
  },
  {
   "cell_type": "code",
   "execution_count": 79,
   "id": "f81b59df",
   "metadata": {},
   "outputs": [
    {
     "data": {
      "text/plain": [
       "'images/valles_marineris_enhanced-full.jpg'"
      ]
     },
     "execution_count": 79,
     "metadata": {},
     "output_type": "execute_result"
    }
   ],
   "source": [
    "hemi_imgur"
   ]
  },
  {
   "cell_type": "code",
   "execution_count": 78,
   "id": "72752a8b",
   "metadata": {},
   "outputs": [
    {
     "data": {
      "text/plain": [
       "[{'title': 'Cerberus Hemisphere Enhanced',\n",
       "  'img_url': 'https://marshemispheres.com/images/full.jpg'},\n",
       " {'title': 'Schiaparelli Hemisphere Enhanced',\n",
       "  'img_url': 'https://marshemispheres.com/images/schiaparelli_enhanced-full.jpg'},\n",
       " {'title': 'Syrtis Major Hemisphere Enhanced',\n",
       "  'img_url': 'https://marshemispheres.com/images/syrtis_major_enhanced-full.jpg'},\n",
       " {'title': 'Valles Marineris Hemisphere Enhanced',\n",
       "  'img_url': 'https://marshemispheres.com/images/valles_marineris_enhanced-full.jpg'}]"
      ]
     },
     "execution_count": 78,
     "metadata": {},
     "output_type": "execute_result"
    }
   ],
   "source": [
    "hemisphere_image_urls = []\n",
    "\n",
    "for desc in hemi_desc:\n",
    "    title = desc.find('h3').text\n",
    "    url = desc.find('a')['href']\n",
    "    hemi_imgur = hemi_url + url\n",
    "#     print(hemi_imgur)\n",
    "    \n",
    "    browser.visit(hemi_imgur)\n",
    "    html = browser.html\n",
    "    soup = bs(html, 'html.parser')\n",
    "#     print(soup)\n",
    "   \n",
    "    enhanced_div = soup.find('div', class_='downloads')\n",
    "    hemi_imgur = enhanced_div.find('a')['href']\n",
    "#     print(hemi_imgur)\n",
    "#     img_data=dict({'title':title, 'img_url':hemisphere_img_url})\n",
    "#     hemisphere_img_urls.append(img_data)\n",
    "    hemi_dict = {'title' : title, 'img_url' : hemi_url + hemi_imgur}\n",
    "    hemisphere_image_urls.append(hemi_dict)\n",
    "\n",
    "\n",
    "hemisphere_image_urls"
   ]
  },
  {
   "cell_type": "code",
   "execution_count": null,
   "id": "ca06fd1e",
   "metadata": {},
   "outputs": [],
   "source": [
    "# Example:\n",
    "# hemisphere_image_urls = [\n",
    "#     {\"title\": \"Valles Marineris Hemisphere\", \"img_url\": \"...\"},\n",
    "#     {\"title\": \"Cerberus Hemisphere\", \"img_url\": \"...\"},\n",
    "#     {\"title\": \"Schiaparelli Hemisphere\", \"img_url\": \"...\"},\n",
    "#     {\"title\": \"Syrtis Major Hemisphere\", \"img_url\": \"...\"},"
   ]
  },
  {
   "cell_type": "code",
   "execution_count": null,
   "id": "edda1176",
   "metadata": {},
   "outputs": [],
   "source": [
    "titles=[]\n",
    "hemisphere_img_urls=[] "
   ]
  }
 ],
 "metadata": {
  "kernelspec": {
   "display_name": "Python 3 (ipykernel)",
   "language": "python",
   "name": "python3"
  },
  "language_info": {
   "codemirror_mode": {
    "name": "ipython",
    "version": 3
   },
   "file_extension": ".py",
   "mimetype": "text/x-python",
   "name": "python",
   "nbconvert_exporter": "python",
   "pygments_lexer": "ipython3",
   "version": "3.7.11"
  }
 },
 "nbformat": 4,
 "nbformat_minor": 5
}
